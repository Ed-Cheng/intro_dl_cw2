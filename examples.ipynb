{
 "cells": [
  {
   "cell_type": "code",
   "execution_count": 1,
   "metadata": {},
   "outputs": [],
   "source": [
    "################################################\n",
    "# Example usages Notebook\n",
    "################################################\n",
    "import tensorflow as tf\n",
    "from utils.loader import DataLoader"
   ]
  },
  {
   "cell_type": "markdown",
   "metadata": {},
   "source": [
    "## Data Loader Usage"
   ]
  },
  {
   "cell_type": "markdown",
   "metadata": {},
   "source": [
    "We batch at the file loading level for quicker access to the generator when training. (See loader.py Generator class)"
   ]
  },
  {
   "cell_type": "code",
   "execution_count": 2,
   "metadata": {},
   "outputs": [],
   "source": [
    "batch_size = 32\n",
    "loader = DataLoader(batch_size=batch_size) # Instantiate loader\n",
    "image_ds = loader.get_image_ds() # Call any of the dataset loaders\n",
    "image_masks_ds = loader.get_mask_ds()\n",
    "binary_labels_ds = loader.get_binary_ds()\n",
    "bounding_boxes_ds = loader.get_bboxes_ds()"
   ]
  },
  {
   "cell_type": "markdown",
   "metadata": {},
   "source": [
    "Joining datasets together for training"
   ]
  },
  {
   "cell_type": "code",
   "execution_count": 3,
   "metadata": {},
   "outputs": [],
   "source": [
    "# Zip together the batched images and their corresponding labels\n",
    "train_ds = tf.data.Dataset.zip((image_ds, binary_labels_ds))\n",
    "\n",
    "# Make into a Numpy iterator\n",
    "train_ds = train_ds.as_numpy_iterator()"
   ]
  },
  {
   "cell_type": "markdown",
   "metadata": {},
   "source": [
    "Successfully joined dataset generators loaded from file"
   ]
  },
  {
   "cell_type": "code",
   "execution_count": 4,
   "metadata": {},
   "outputs": [
    {
     "name": "stdout",
     "output_type": "stream",
     "text": [
      "(32, 256, 256, 3) (32, 1)\n"
     ]
    }
   ],
   "source": [
    "images, labels = next(train_ds) # Each next call loads a new batched set\n",
    "print(images.shape, labels.shape)"
   ]
  },
  {
   "cell_type": "markdown",
   "metadata": {},
   "source": [
    "To load validation sets use the 'val' flag"
   ]
  },
  {
   "cell_type": "code",
   "execution_count": 5,
   "metadata": {},
   "outputs": [],
   "source": [
    "image_val_ds = loader.get_image_ds(val=True)\n",
    "\n",
    "# Make the dataset generator repeat infinitely\n",
    "image_val_ds = image_val_ds.repeat().as_numpy_iterator()"
   ]
  },
  {
   "cell_type": "markdown",
   "metadata": {},
   "source": [
    "# How to train with the loader"
   ]
  },
  {
   "cell_type": "markdown",
   "metadata": {},
   "source": [
    "Method 1 - Create a generator and pass it to the model.fit() fcn e.g model.fit(generator_img(),...)"
   ]
  },
  {
   "cell_type": "code",
   "execution_count": null,
   "metadata": {},
   "outputs": [],
   "source": [
    "def generator_img():\n",
    "    a = image_ds.as_numpy_iterator()\n",
    "    b = image_masks_ds.as_numpy_iterator()\n",
    "    \n",
    "    while True:\n",
    "        X = tf.random.shuffle(a.next()) # Forever pulls the next batch\n",
    "        Y1 = tf.random.shuffle(b.next())\n",
    "        \n",
    "        yield X, Y1 # Return the x,y data"
   ]
  },
  {
   "cell_type": "markdown",
   "metadata": {},
   "source": [
    "Method 2 - TF Dataset Zipping"
   ]
  },
  {
   "cell_type": "code",
   "execution_count": null,
   "metadata": {},
   "outputs": [],
   "source": [
    "train_ds = tf.data.Dataset.zip((image_ds, image_masks_ds)).as_numpy_iterator()"
   ]
  }
 ],
 "metadata": {
  "interpreter": {
   "hash": "13872f827bf2face4951d508a343680c0c465a86f8c76a51d647b255bdadb53b"
  },
  "kernelspec": {
   "display_name": "Python 3.9.9 64-bit",
   "language": "python",
   "name": "python3"
  },
  "language_info": {
   "codemirror_mode": {
    "name": "ipython",
    "version": 3
   },
   "file_extension": ".py",
   "mimetype": "text/x-python",
   "name": "python",
   "nbconvert_exporter": "python",
   "pygments_lexer": "ipython3",
   "version": "3.9.9"
  },
  "orig_nbformat": 4
 },
 "nbformat": 4,
 "nbformat_minor": 2
}
