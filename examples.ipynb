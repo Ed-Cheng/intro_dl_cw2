{
 "cells": [
  {
   "cell_type": "code",
   "execution_count": 1,
   "metadata": {},
   "outputs": [],
   "source": [
    "################################################\n",
    "# Example usages Notebook\n",
    "################################################\n",
    "import tensorflow as tf\n",
    "from utils.loader import DataLoader\n",
    "from utils import tools, config"
   ]
  },
  {
   "cell_type": "markdown",
   "metadata": {},
   "source": [
    "## Data Loader Usage"
   ]
  },
  {
   "cell_type": "markdown",
   "metadata": {},
   "source": [
    "We batch at the file loading level for quicker access to the generator when training. (See loader.py Generator class)"
   ]
  },
  {
   "cell_type": "code",
   "execution_count": 2,
   "metadata": {},
   "outputs": [],
   "source": [
    "batch_size = 32\n",
    "loader = DataLoader(batch_size=batch_size) # Instantiate loader\n",
    "image_ds = loader.get_image_ds().repeat() # Call any of the dataset loaders to get their respective generators\n",
    "image_masks_ds = loader.get_mask_ds().repeat() # Make them repeat so can reuse\n",
    "binary_labels_ds = loader.get_binary_ds().repeat()\n",
    "bounding_boxes_ds = loader.get_bboxes_ds().repeat()"
   ]
  },
  {
   "cell_type": "markdown",
   "metadata": {},
   "source": [
    "Joining datasets together for training"
   ]
  },
  {
   "cell_type": "code",
   "execution_count": 3,
   "metadata": {},
   "outputs": [],
   "source": [
    "# Zip together the batched images and their corresponding labels\n",
    "train_ds = tf.data.Dataset.zip((image_ds, binary_labels_ds))\n",
    "\n",
    "# Make into a Numpy iterator\n",
    "train_ds = train_ds.as_numpy_iterator()"
   ]
  },
  {
   "cell_type": "markdown",
   "metadata": {},
   "source": [
    "Successfully joined dataset generators loaded from file"
   ]
  },
  {
   "cell_type": "code",
   "execution_count": 4,
   "metadata": {},
   "outputs": [
    {
     "name": "stdout",
     "output_type": "stream",
     "text": [
      "(32, 256, 256, 3) (32, 1)\n"
     ]
    }
   ],
   "source": [
    "images, labels = next(train_ds) # Each next call loads a new batched set\n",
    "print(images.shape, labels.shape)"
   ]
  },
  {
   "cell_type": "markdown",
   "metadata": {},
   "source": [
    "To load validation set generators use the 'val' flag"
   ]
  },
  {
   "cell_type": "code",
   "execution_count": 5,
   "metadata": {},
   "outputs": [],
   "source": [
    "image_val_ds = loader.get_image_ds(val=True)\n",
    "\n",
    "# Make the dataset generator repeat infinitely\n",
    "image_val_ds = image_val_ds.repeat().as_numpy_iterator()"
   ]
  },
  {
   "cell_type": "markdown",
   "metadata": {},
   "source": [
    "To load entire test set of NumpyArrays (Not generators) use 'test_mode' flag"
   ]
  },
  {
   "cell_type": "code",
   "execution_count": null,
   "metadata": {},
   "outputs": [],
   "source": [
    "image_test_ds = loader.get_image_ds(test_mode=True)"
   ]
  },
  {
   "cell_type": "markdown",
   "metadata": {},
   "source": [
    "# How to train with the loader"
   ]
  },
  {
   "cell_type": "markdown",
   "metadata": {},
   "source": [
    "Method 1 - Create a generator and pass it to the model.fit() fcn e.g model.fit(generator_img(),...) * BEST METHOD *"
   ]
  },
  {
   "cell_type": "code",
   "execution_count": null,
   "metadata": {},
   "outputs": [],
   "source": [
    "def generator_img():\n",
    "    ''' Merges together datasets into a unified generator to pass for training '''\n",
    "    a = image_ds.as_numpy_iterator() # Add the datasets you want to use as numpy iterators\n",
    "    b = image_masks_ds.as_numpy_iterator()\n",
    "    c = binary_labels_ds.as_numpy_iterator()\n",
    "    \n",
    "    while True:\n",
    "        X = a.next() # Call next on them every time to yield batches\n",
    "        Y1 = b.next()\n",
    "        Y2 = c.next()\n",
    "        \n",
    "        # Regularisation and shuffling\n",
    "        X, Y1, Y2 = tools.get_randomised_data([X, Y1, Y2]) # Use our randomiser and augmentation from tools.py\n",
    "        X, Y1 = tools.data_augmentation(X, Y1)\n",
    "        \n",
    "        yield X, (Y1, Y2) # Return in this format for the MTL -> inputs, outputs"
   ]
  }
 ],
 "metadata": {
  "interpreter": {
   "hash": "13872f827bf2face4951d508a343680c0c465a86f8c76a51d647b255bdadb53b"
  },
  "kernelspec": {
   "display_name": "Python 3.9.9 64-bit",
   "language": "python",
   "name": "python3"
  },
  "language_info": {
   "codemirror_mode": {
    "name": "ipython",
    "version": 3
   },
   "file_extension": ".py",
   "mimetype": "text/x-python",
   "name": "python",
   "nbconvert_exporter": "python",
   "pygments_lexer": "ipython3",
   "version": "3.9.9"
  },
  "orig_nbformat": 4
 },
 "nbformat": 4,
 "nbformat_minor": 2
}
