{
 "cells": [
  {
   "cell_type": "code",
   "execution_count": 1,
   "metadata": {},
   "outputs": [],
   "source": [
    "################################################\n",
    "# Example usages Notebook\n",
    "################################################\n",
    "import tensorflow as tf\n",
    "from utils.loader import DataLoader"
   ]
  },
  {
   "cell_type": "markdown",
   "metadata": {},
   "source": [
    "## Data Loader Usage"
   ]
  },
  {
   "cell_type": "markdown",
   "metadata": {},
   "source": [
    "We use auto batch which deals with batching within the loader in this example. However, for more fine-grained loading, disable auto_batch argmuent in the instantiator."
   ]
  },
  {
   "cell_type": "code",
   "execution_count": 2,
   "metadata": {},
   "outputs": [],
   "source": [
    "loader = DataLoader(auto_batch=True, batch_size=10) # Instantiate loader\n",
    "image_ds = loader.get_image_ds() # Call any of the dataset loaders\n",
    "image_masks_ds = loader.get_mask_ds()\n",
    "binary_labels_ds = loader.get_binary_ds()\n",
    "bounding_boxes_ds = loader.get_bboxes_ds()"
   ]
  },
  {
   "cell_type": "markdown",
   "metadata": {},
   "source": [
    "Joining datasets together for training"
   ]
  },
  {
   "cell_type": "code",
   "execution_count": 62,
   "metadata": {},
   "outputs": [],
   "source": [
    "# Zip together the batched images and their corresponding labels\n",
    "train_ds = tf.data.Dataset.zip((image_ds, binary_labels_ds))\n",
    "\n",
    "# Make into a Numpy iterator\n",
    "train_ds = train_ds.as_numpy_iterator()"
   ]
  },
  {
   "cell_type": "markdown",
   "metadata": {},
   "source": [
    "Successfully joined dataset generators loaded from file"
   ]
  },
  {
   "cell_type": "code",
   "execution_count": 63,
   "metadata": {},
   "outputs": [
    {
     "name": "stdout",
     "output_type": "stream",
     "text": [
      "(10, 256, 256, 3) (10, 1)\n"
     ]
    }
   ],
   "source": [
    "images, labels = next(train_ds) # Each next call loads a new batched set\n",
    "print(images.shape, labels.shape)"
   ]
  },
  {
   "cell_type": "markdown",
   "metadata": {},
   "source": [
    "To load validation sets use the 'val' flag"
   ]
  },
  {
   "cell_type": "code",
   "execution_count": 65,
   "metadata": {},
   "outputs": [],
   "source": [
    "image_val_ds = loader.get_image_ds(val=True)\n",
    "\n",
    "# Make the dataset generator repeat infinitely\n",
    "image_val_ds = image_val_ds.repeat().as_numpy_iterator()"
   ]
  }
 ],
 "metadata": {
  "interpreter": {
   "hash": "13872f827bf2face4951d508a343680c0c465a86f8c76a51d647b255bdadb53b"
  },
  "kernelspec": {
   "display_name": "Python 3.9.9 64-bit",
   "language": "python",
   "name": "python3"
  },
  "language_info": {
   "codemirror_mode": {
    "name": "ipython",
    "version": 3
   },
   "file_extension": ".py",
   "mimetype": "text/x-python",
   "name": "python",
   "nbconvert_exporter": "python",
   "pygments_lexer": "ipython3",
   "version": "3.9.9"
  },
  "orig_nbformat": 4
 },
 "nbformat": 4,
 "nbformat_minor": 2
}
