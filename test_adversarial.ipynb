{
 "cells": [
  {
   "cell_type": "code",
   "execution_count": 1,
   "metadata": {},
   "outputs": [],
   "source": [
    "import tensorflow as tf\n",
    "from tensorflow import keras\n",
    "import numpy as np\n",
    "\n",
    "from utils import config"
   ]
  },
  {
   "cell_type": "code",
   "execution_count": 2,
   "metadata": {},
   "outputs": [],
   "source": [
    "# Set configs\n",
    "batch_size = 16\n",
    "batch_size_val = 16\n",
    "num_train, num_val, num_test = config.config['num_train'], config.config['num_val'], config.config['num_test']\n",
    "img_height, img_width, channels = config.config['input_shape']"
   ]
  },
  {
   "cell_type": "code",
   "execution_count": 3,
   "metadata": {},
   "outputs": [
    {
     "name": "stdout",
     "output_type": "stream",
     "text": [
      "Found 120 images belonging to 4 classes.\n",
      "Found 120 images belonging to 4 classes.\n"
     ]
    }
   ],
   "source": [
    "# Load adversarial inputs\n",
    "train_ds = keras.preprocessing.image.DirectoryIterator(\n",
    "    r'adversarial_imgs/data', tf.keras.preprocessing.image.ImageDataGenerator(), target_size=(img_height, img_width), batch_size=1, seed=777)\n",
    "train_masks = keras.preprocessing.image.DirectoryIterator(\n",
    "    r'adversarial_imgs/masks', tf.keras.preprocessing.image.ImageDataGenerator(), target_size=(img_height, img_width), batch_size=1, seed=777, color_mode='grayscale')"
   ]
  },
  {
   "cell_type": "code",
   "execution_count": 3,
   "metadata": {},
   "outputs": [],
   "source": [
    "# Load model to test on adversarial inputs (Normal MTL)\n",
    "model = tf.keras.models.load_model('model_weights/EffishingNetN')"
   ]
  },
  {
   "cell_type": "code",
   "execution_count": 35,
   "metadata": {},
   "outputs": [
    {
     "name": "stdout",
     "output_type": "stream",
     "text": [
      "Seg Acc: 58.855%\n"
     ]
    }
   ],
   "source": [
    "# Predict on test-set\n",
    "seg_pred, bin_pred, bbox_pred = model.predict(train_ds, batch_size=10)\n",
    "seg_pred = tf.where(seg_pred >= 0, 1, 0) # Convert to {0,1} binary classes\n",
    "c2 = 0\n",
    "\n",
    "for i in range(120):\n",
    "    c2 += np.sum(seg_pred[i] == train_masks[i][0])\n",
    "print(f'Seg Acc: {round(c2*100/((seg_pred.shape[0]*(img_height*img_width))), 3)}%')"
   ]
  },
  {
   "cell_type": "code",
   "execution_count": null,
   "metadata": {},
   "outputs": [],
   "source": [
    "# Load model to test on adversarial inputs (Attention MTL)\n",
    "model = tf.keras.models.load_model('model_weights/EffishingNetAtt_Eff')"
   ]
  },
  {
   "cell_type": "code",
   "execution_count": null,
   "metadata": {},
   "outputs": [
    {
     "name": "stdout",
     "output_type": "stream",
     "text": [
      "Seg Acc: 58.855%\n"
     ]
    }
   ],
   "source": [
    "# Predict on test-set\n",
    "seg_pred, bin_pred, bbox_pred = model.predict(train_ds, batch_size=10)\n",
    "seg_pred = tf.where(seg_pred >= 0, 1, 0) # Convert to {0,1} binary classes\n",
    "c2 = 0\n",
    "\n",
    "for i in range(120):\n",
    "    c2 += np.sum(seg_pred[i] == train_masks[i][0])\n",
    "print(f'Seg Acc: {round(c2*100/((seg_pred.shape[0]*(img_height*img_width))), 3)}%')"
   ]
  }
 ],
 "metadata": {
  "interpreter": {
   "hash": "13872f827bf2face4951d508a343680c0c465a86f8c76a51d647b255bdadb53b"
  },
  "kernelspec": {
   "display_name": "Python 3.9.9 64-bit",
   "language": "python",
   "name": "python3"
  },
  "language_info": {
   "codemirror_mode": {
    "name": "ipython",
    "version": 3
   },
   "file_extension": ".py",
   "mimetype": "text/x-python",
   "name": "python",
   "nbconvert_exporter": "python",
   "pygments_lexer": "ipython3",
   "version": "3.9.9"
  },
  "orig_nbformat": 4
 },
 "nbformat": 4,
 "nbformat_minor": 2
}
