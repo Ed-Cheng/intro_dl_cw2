{
 "cells": [
  {
   "cell_type": "markdown",
   "metadata": {},
   "source": [
    "# Intro of this file\n",
    "+ Performs 5 fold cv (main args might want to change: batchsize=8, fold=5, ep=10)\n",
    "+ To change the fold numbers, simply change \"CVfolds\" in the section \"Start cross validation\"\n",
    "+ loader and train is modified compared to the main branch\n"
   ]
  },
  {
   "cell_type": "code",
   "execution_count": 1,
   "metadata": {},
   "outputs": [],
   "source": [
    "import tensorflow as tf\n",
    "from tensorflow import keras\n",
    "from tensorflow.keras import backend as K\n",
    "import numpy as np\n",
    "import random\n",
    "import matplotlib.pyplot as plt\n",
    "\n",
    "from utils.loader import DataLoader\n",
    "from models.effnet_encoder import EffnetEncoder\n",
    "from models.mtl_framework import MTLFramework\n",
    "from utils import tools, config"
   ]
  },
  {
   "cell_type": "code",
   "execution_count": 2,
   "metadata": {},
   "outputs": [],
   "source": [
    "# Set configs\n",
    "batch_size = 8\n",
    "batch_size_val = 8\n",
    "num_train, num_val, num_test = config.config['num_train'], config.config['num_val'], config.config['num_test']\n",
    "img_height, img_width, channels = config.config['input_shape']"
   ]
  },
  {
   "cell_type": "markdown",
   "metadata": {},
   "source": [
    "### Build our MTL"
   ]
  },
  {
   "cell_type": "code",
   "execution_count": 3,
   "metadata": {},
   "outputs": [],
   "source": [
    "def build_model(img_height, img_width, channels):\n",
    "    ### CLEARS OLD MODELS IN CACHE\n",
    "    tf.keras.backend.clear_session()\n",
    "\n",
    "    # Get encoder\n",
    "    base_model_name = 'B0'\n",
    "    encoder = EffnetEncoder(base_model_name, (img_height, img_width, channels)).build_encoder(trainable=True)\n",
    "\n",
    "    # Use our MTL framework to custom build a model\n",
    "    mtl_builder = MTLFramework(encoder, (img_height, img_width, channels))\n",
    "    mtl_builder.add_segmentation_head()\n",
    "    mtl_builder.add_binary_classification_head(base_model_name, trainable=True)\n",
    "    mtl_builder.add_bbox_classification_head(base_model_name, trainable=True)\n",
    "    model = mtl_builder.build_mtl_model()\n",
    "\n",
    "    return model"
   ]
  },
  {
   "cell_type": "markdown",
   "metadata": {},
   "source": [
    "### Train model"
   ]
  },
  {
   "cell_type": "code",
   "execution_count": 4,
   "metadata": {},
   "outputs": [],
   "source": [
    "def generator_img(img_ds, masks_ds, label_ds, bbox_ds):\n",
    "    ''' Merges together datasets into a unified generator to pass for training '''\n",
    "    a = img_ds.as_numpy_iterator()\n",
    "    b = masks_ds.as_numpy_iterator()\n",
    "    c = label_ds.as_numpy_iterator()\n",
    "    d = bbox_ds.as_numpy_iterator()\n",
    "    \n",
    "    while True:\n",
    "        X = a.next()\n",
    "        Y1 = b.next()\n",
    "        Y2 = c.next()\n",
    "        Y3 = d.next()\n",
    "        \n",
    "        # Regularisation and shuffling\n",
    "        X, Y1, Y2, Y3 = tools.get_randomised_data([X, Y1, Y2, Y3])\n",
    "        # X, Y1, Y3 = tools.data_augmentation(X, Y1, Y3) # Fix augmentation\n",
    "        \n",
    "        yield X, (Y1, Y2, Y3)"
   ]
  },
  {
   "cell_type": "code",
   "execution_count": 5,
   "metadata": {},
   "outputs": [],
   "source": [
    "def generator_img_val(img_ds_val, masks_ds_val, label_ds_val, bbox_ds):\n",
    "    ''' Merges together datasets into a unified generator to pass for training '''\n",
    "    a = img_ds_val.as_numpy_iterator()\n",
    "    b = masks_ds_val.as_numpy_iterator()\n",
    "    c = label_ds_val.as_numpy_iterator()\n",
    "    d = bbox_ds.as_numpy_iterator()\n",
    "    \n",
    "    while True:\n",
    "        X = a.next()\n",
    "        Y1 = b.next()\n",
    "        Y2 = c.next()\n",
    "        Y3 = d.next()\n",
    "        \n",
    "        yield X, (Y1, Y2, Y3)"
   ]
  },
  {
   "cell_type": "markdown",
   "metadata": {},
   "source": [
    "### Start cross validation"
   ]
  },
  {
   "cell_type": "code",
   "execution_count": 6,
   "metadata": {},
   "outputs": [
    {
     "name": "stdout",
     "output_type": "stream",
     "text": [
      "-------------------- start cross val 1/5 --------------------\n",
      "Epoch 1/10\n",
      "221/221 [==============================] - 88s 342ms/step - loss: 1.7879 - segnet_out_loss: 0.4527 - bin_class_out_loss: 0.2282 - bbox_out_loss: 110.6995 - segnet_out_accuracy: 0.7834 - bin_class_out_accuracy: 0.9202 - bbox_out_accuracy: 0.2675 - val_loss: 1.4185 - val_segnet_out_loss: 0.2564 - val_bin_class_out_loss: 0.0409 - val_bbox_out_loss: 112.1228 - val_segnet_out_accuracy: 0.9109 - val_bin_class_out_accuracy: 0.9886 - val_bbox_out_accuracy: 0.3773\n",
      "Epoch 2/10\n",
      "221/221 [==============================] - 74s 336ms/step - loss: 1.3661 - segnet_out_loss: 0.2284 - bin_class_out_loss: 0.0527 - bbox_out_loss: 108.4978 - segnet_out_accuracy: 0.9188 - bin_class_out_accuracy: 0.9870 - bbox_out_accuracy: 0.4084 - val_loss: 1.2624 - val_segnet_out_loss: 0.1772 - val_bin_class_out_loss: 0.0277 - val_bbox_out_loss: 105.7455 - val_segnet_out_accuracy: 0.9375 - val_bin_class_out_accuracy: 0.9909 - val_bbox_out_accuracy: 0.4500\n",
      "Epoch 3/10\n",
      "221/221 [==============================] - 74s 335ms/step - loss: 1.2336 - segnet_out_loss: 0.1751 - bin_class_out_loss: 0.0198 - bbox_out_loss: 103.8712 - segnet_out_accuracy: 0.9392 - bin_class_out_accuracy: 0.9960 - bbox_out_accuracy: 0.4932 - val_loss: 1.1777 - val_segnet_out_loss: 0.1518 - val_bin_class_out_loss: 0.0256 - val_bbox_out_loss: 100.0315 - val_segnet_out_accuracy: 0.9440 - val_bin_class_out_accuracy: 0.9955 - val_bbox_out_accuracy: 0.4886\n",
      "Epoch 4/10\n",
      "221/221 [==============================] - 75s 338ms/step - loss: 1.1271 - segnet_out_loss: 0.1465 - bin_class_out_loss: 0.0124 - bbox_out_loss: 96.8208 - segnet_out_accuracy: 0.9485 - bin_class_out_accuracy: 0.9972 - bbox_out_accuracy: 0.5000 - val_loss: 1.0643 - val_segnet_out_loss: 0.1372 - val_bin_class_out_loss: 0.0236 - val_bbox_out_loss: 90.3523 - val_segnet_out_accuracy: 0.9489 - val_bin_class_out_accuracy: 0.9932 - val_bbox_out_accuracy: 0.4682\n",
      "Epoch 5/10\n",
      "221/221 [==============================] - 73s 332ms/step - loss: 1.0137 - segnet_out_loss: 0.1291 - bin_class_out_loss: 0.0068 - bbox_out_loss: 87.7830 - segnet_out_accuracy: 0.9541 - bin_class_out_accuracy: 1.0000 - bbox_out_accuracy: 0.5028 - val_loss: 0.9872 - val_segnet_out_loss: 0.1322 - val_bin_class_out_loss: 0.0213 - val_bbox_out_loss: 83.3683 - val_segnet_out_accuracy: 0.9501 - val_bin_class_out_accuracy: 0.9932 - val_bbox_out_accuracy: 0.4636\n",
      "Epoch 6/10\n",
      "221/221 [==============================] - 73s 332ms/step - loss: 0.8930 - segnet_out_loss: 0.1154 - bin_class_out_loss: 0.0045 - bbox_out_loss: 77.3083 - segnet_out_accuracy: 0.9587 - bin_class_out_accuracy: 0.9989 - bbox_out_accuracy: 0.5079 - val_loss: 0.8759 - val_segnet_out_loss: 0.1265 - val_bin_class_out_loss: 0.0229 - val_bbox_out_loss: 72.6533 - val_segnet_out_accuracy: 0.9518 - val_bin_class_out_accuracy: 0.9932 - val_bbox_out_accuracy: 0.5250\n",
      "Epoch 7/10\n",
      "221/221 [==============================] - 74s 334ms/step - loss: 0.7700 - segnet_out_loss: 0.1059 - bin_class_out_loss: 0.0025 - bbox_out_loss: 66.1609 - segnet_out_accuracy: 0.9618 - bin_class_out_accuracy: 1.0000 - bbox_out_accuracy: 0.5209 - val_loss: 0.7842 - val_segnet_out_loss: 0.1276 - val_bin_class_out_loss: 0.0178 - val_bbox_out_loss: 63.8693 - val_segnet_out_accuracy: 0.9533 - val_bin_class_out_accuracy: 0.9955 - val_bbox_out_accuracy: 0.4614\n",
      "Epoch 8/10\n",
      "221/221 [==============================] - 75s 339ms/step - loss: 0.6523 - segnet_out_loss: 0.0984 - bin_class_out_loss: 0.0018 - bbox_out_loss: 55.2163 - segnet_out_accuracy: 0.9643 - bin_class_out_accuracy: 1.0000 - bbox_out_accuracy: 0.5436 - val_loss: 0.6891 - val_segnet_out_loss: 0.1248 - val_bin_class_out_loss: 0.0205 - val_bbox_out_loss: 54.3747 - val_segnet_out_accuracy: 0.9536 - val_bin_class_out_accuracy: 0.9955 - val_bbox_out_accuracy: 0.5727\n",
      "Epoch 9/10\n",
      "221/221 [==============================] - 75s 339ms/step - loss: 0.5439 - segnet_out_loss: 0.0920 - bin_class_out_loss: 0.0012 - bbox_out_loss: 45.0685 - segnet_out_accuracy: 0.9666 - bin_class_out_accuracy: 1.0000 - bbox_out_accuracy: 0.6126 - val_loss: 0.6689 - val_segnet_out_loss: 0.1251 - val_bin_class_out_loss: 0.0186 - val_bbox_out_loss: 52.5223 - val_segnet_out_accuracy: 0.9539 - val_bin_class_out_accuracy: 0.9955 - val_bbox_out_accuracy: 0.6364\n",
      "Epoch 10/10\n",
      "221/221 [==============================] - 73s 333ms/step - loss: 0.4478 - segnet_out_loss: 0.0871 - bin_class_out_loss: 0.0014 - bbox_out_loss: 35.9292 - segnet_out_accuracy: 0.9684 - bin_class_out_accuracy: 1.0000 - bbox_out_accuracy: 0.6787 - val_loss: 0.5590 - val_segnet_out_loss: 0.1261 - val_bin_class_out_loss: 0.0244 - val_bbox_out_loss: 40.8469 - val_segnet_out_accuracy: 0.9527 - val_bin_class_out_accuracy: 0.9886 - val_bbox_out_accuracy: 0.6864\n",
      "-------------------- start cross val 2/5 --------------------\n",
      "Epoch 1/10\n",
      "221/221 [==============================] - 82s 345ms/step - loss: 1.7737 - segnet_out_loss: 0.4542 - bin_class_out_loss: 0.2178 - bbox_out_loss: 110.1781 - segnet_out_accuracy: 0.7896 - bin_class_out_accuracy: 0.9231 - bbox_out_accuracy: 0.2658 - val_loss: 1.3827 - val_segnet_out_loss: 0.2494 - val_bin_class_out_loss: 0.0281 - val_bbox_out_loss: 110.5168 - val_segnet_out_accuracy: 0.9210 - val_bin_class_out_accuracy: 0.9977 - val_bbox_out_accuracy: 0.2455\n",
      "Epoch 2/10\n",
      "221/221 [==============================] - 74s 338ms/step - loss: 1.3434 - segnet_out_loss: 0.2252 - bin_class_out_loss: 0.0392 - bbox_out_loss: 107.8953 - segnet_out_accuracy: 0.9223 - bin_class_out_accuracy: 0.9904 - bbox_out_accuracy: 0.3456 - val_loss: 1.2646 - val_segnet_out_loss: 0.1750 - val_bin_class_out_loss: 0.0287 - val_bbox_out_loss: 106.0915 - val_segnet_out_accuracy: 0.9388 - val_bin_class_out_accuracy: 0.9955 - val_bbox_out_accuracy: 0.3568\n",
      "Epoch 3/10\n",
      "221/221 [==============================] - 75s 339ms/step - loss: 1.2237 - segnet_out_loss: 0.1737 - bin_class_out_loss: 0.0171 - bbox_out_loss: 103.2948 - segnet_out_accuracy: 0.9399 - bin_class_out_accuracy: 0.9960 - bbox_out_accuracy: 0.4135 - val_loss: 1.1786 - val_segnet_out_loss: 0.1442 - val_bin_class_out_loss: 0.0223 - val_bbox_out_loss: 101.2134 - val_segnet_out_accuracy: 0.9483 - val_bin_class_out_accuracy: 0.9932 - val_bbox_out_accuracy: 0.3955\n",
      "Epoch 4/10\n",
      "221/221 [==============================] - 75s 339ms/step - loss: 1.1241 - segnet_out_loss: 0.1459 - bin_class_out_loss: 0.0146 - bbox_out_loss: 96.3525 - segnet_out_accuracy: 0.9488 - bin_class_out_accuracy: 0.9983 - bbox_out_accuracy: 0.4474 - val_loss: 1.0632 - val_segnet_out_loss: 0.1329 - val_bin_class_out_loss: 0.0238 - val_bbox_out_loss: 90.6514 - val_segnet_out_accuracy: 0.9506 - val_bin_class_out_accuracy: 0.9909 - val_bbox_out_accuracy: 0.4886\n",
      "Epoch 5/10\n",
      "221/221 [==============================] - 75s 339ms/step - loss: 1.0092 - segnet_out_loss: 0.1274 - bin_class_out_loss: 0.0073 - bbox_out_loss: 87.4465 - segnet_out_accuracy: 0.9546 - bin_class_out_accuracy: 0.9983 - bbox_out_accuracy: 0.4581 - val_loss: 0.9592 - val_segnet_out_loss: 0.1270 - val_bin_class_out_loss: 0.0139 - val_bbox_out_loss: 81.8278 - val_segnet_out_accuracy: 0.9525 - val_bin_class_out_accuracy: 0.9955 - val_bbox_out_accuracy: 0.4364\n",
      "Epoch 6/10\n",
      "221/221 [==============================] - 76s 343ms/step - loss: 0.8924 - segnet_out_loss: 0.1140 - bin_class_out_loss: 0.0073 - bbox_out_loss: 77.1173 - segnet_out_accuracy: 0.9592 - bin_class_out_accuracy: 0.9983 - bbox_out_accuracy: 0.4632 - val_loss: 0.8725 - val_segnet_out_loss: 0.1238 - val_bin_class_out_loss: 0.0196 - val_bbox_out_loss: 72.9039 - val_segnet_out_accuracy: 0.9528 - val_bin_class_out_accuracy: 0.9909 - val_bbox_out_accuracy: 0.4432\n",
      "Epoch 7/10\n",
      "221/221 [==============================] - 75s 340ms/step - loss: 0.7684 - segnet_out_loss: 0.1045 - bin_class_out_loss: 0.0030 - bbox_out_loss: 66.0798 - segnet_out_accuracy: 0.9623 - bin_class_out_accuracy: 1.0000 - bbox_out_accuracy: 0.5141 - val_loss: 0.7593 - val_segnet_out_loss: 0.1195 - val_bin_class_out_loss: 0.0138 - val_bbox_out_loss: 62.6028 - val_segnet_out_accuracy: 0.9561 - val_bin_class_out_accuracy: 0.9955 - val_bbox_out_accuracy: 0.4864\n",
      "Epoch 8/10\n",
      "221/221 [==============================] - 74s 336ms/step - loss: 0.6505 - segnet_out_loss: 0.0968 - bin_class_out_loss: 0.0020 - bbox_out_loss: 55.1707 - segnet_out_accuracy: 0.9650 - bin_class_out_accuracy: 1.0000 - bbox_out_accuracy: 0.5882 - val_loss: 0.7013 - val_segnet_out_loss: 0.1194 - val_bin_class_out_loss: 0.0126 - val_bbox_out_loss: 56.9228 - val_segnet_out_accuracy: 0.9554 - val_bin_class_out_accuracy: 0.9955 - val_bbox_out_accuracy: 0.6136\n",
      "Epoch 9/10\n",
      "221/221 [==============================] - 75s 339ms/step - loss: 0.5414 - segnet_out_loss: 0.0897 - bin_class_out_loss: 0.0015 - bbox_out_loss: 45.0179 - segnet_out_accuracy: 0.9677 - bin_class_out_accuracy: 1.0000 - bbox_out_accuracy: 0.6352 - val_loss: 0.6108 - val_segnet_out_loss: 0.1193 - val_bin_class_out_loss: 0.0177 - val_bbox_out_loss: 47.3887 - val_segnet_out_accuracy: 0.9557 - val_bin_class_out_accuracy: 0.9955 - val_bbox_out_accuracy: 0.6455\n",
      "Epoch 10/10\n",
      "221/221 [==============================] - 74s 337ms/step - loss: 0.4457 - segnet_out_loss: 0.0864 - bin_class_out_loss: 0.0017 - bbox_out_loss: 35.7549 - segnet_out_accuracy: 0.9687 - bin_class_out_accuracy: 1.0000 - bbox_out_accuracy: 0.6623 - val_loss: 0.5793 - val_segnet_out_loss: 0.1185 - val_bin_class_out_loss: 0.0208 - val_bbox_out_loss: 43.9990 - val_segnet_out_accuracy: 0.9561 - val_bin_class_out_accuracy: 0.9886 - val_bbox_out_accuracy: 0.6705\n",
      "-------------------- start cross val 3/5 --------------------\n",
      "Epoch 1/10\n",
      "221/221 [==============================] - 83s 349ms/step - loss: 1.7746 - segnet_out_loss: 0.4401 - bin_class_out_loss: 0.2244 - bbox_out_loss: 110.9971 - segnet_out_accuracy: 0.7882 - bin_class_out_accuracy: 0.9191 - bbox_out_accuracy: 0.2919 - val_loss: 1.3790 - val_segnet_out_loss: 0.2476 - val_bin_class_out_loss: 0.0289 - val_bbox_out_loss: 110.2513 - val_segnet_out_accuracy: 0.9220 - val_bin_class_out_accuracy: 0.9977 - val_bbox_out_accuracy: 0.3932\n",
      "Epoch 2/10\n",
      "221/221 [==============================] - 75s 339ms/step - loss: 1.3445 - segnet_out_loss: 0.2198 - bin_class_out_loss: 0.0371 - bbox_out_loss: 108.7579 - segnet_out_accuracy: 0.9263 - bin_class_out_accuracy: 0.9926 - bbox_out_accuracy: 0.3897 - val_loss: 1.2896 - val_segnet_out_loss: 0.1767 - val_bin_class_out_loss: 0.0239 - val_bbox_out_loss: 108.8984 - val_segnet_out_accuracy: 0.9401 - val_bin_class_out_accuracy: 0.9977 - val_bbox_out_accuracy: 0.4841\n",
      "Epoch 3/10\n",
      "221/221 [==============================] - 75s 338ms/step - loss: 1.2237 - segnet_out_loss: 0.1676 - bin_class_out_loss: 0.0149 - bbox_out_loss: 104.1163 - segnet_out_accuracy: 0.9430 - bin_class_out_accuracy: 0.9989 - bbox_out_accuracy: 0.4632 - val_loss: 1.1828 - val_segnet_out_loss: 0.1552 - val_bin_class_out_loss: 0.0253 - val_bbox_out_loss: 100.2265 - val_segnet_out_accuracy: 0.9430 - val_bin_class_out_accuracy: 0.9886 - val_bbox_out_accuracy: 0.4955\n",
      "Epoch 4/10\n",
      "221/221 [==============================] - 75s 342ms/step - loss: 1.1222 - segnet_out_loss: 0.1409 - bin_class_out_loss: 0.0104 - bbox_out_loss: 97.0904 - segnet_out_accuracy: 0.9509 - bin_class_out_accuracy: 0.9972 - bbox_out_accuracy: 0.4655 - val_loss: 1.0473 - val_segnet_out_loss: 0.1426 - val_bin_class_out_loss: 0.0289 - val_bbox_out_loss: 87.5766 - val_segnet_out_accuracy: 0.9473 - val_bin_class_out_accuracy: 0.9886 - val_bbox_out_accuracy: 0.5432\n",
      "Epoch 5/10\n",
      "221/221 [==============================] - 75s 339ms/step - loss: 1.0196 - segnet_out_loss: 0.1233 - bin_class_out_loss: 0.0155 - bbox_out_loss: 88.0905 - segnet_out_accuracy: 0.9563 - bin_class_out_accuracy: 0.9972 - bbox_out_accuracy: 0.4729 - val_loss: 1.0029 - val_segnet_out_loss: 0.1385 - val_bin_class_out_loss: 0.0264 - val_bbox_out_loss: 83.7972 - val_segnet_out_accuracy: 0.9490 - val_bin_class_out_accuracy: 0.9886 - val_bbox_out_accuracy: 0.5182\n",
      "Epoch 6/10\n",
      "221/221 [==============================] - 75s 338ms/step - loss: 0.8971 - segnet_out_loss: 0.1124 - bin_class_out_loss: 0.0091 - bbox_out_loss: 77.5664 - segnet_out_accuracy: 0.9597 - bin_class_out_accuracy: 0.9983 - bbox_out_accuracy: 0.4678 - val_loss: 0.9228 - val_segnet_out_loss: 0.1342 - val_bin_class_out_loss: 0.0177 - val_bbox_out_loss: 77.0933 - val_segnet_out_accuracy: 0.9507 - val_bin_class_out_accuracy: 0.9932 - val_bbox_out_accuracy: 0.4932\n",
      "Epoch 7/10\n",
      "221/221 [==============================] - 74s 338ms/step - loss: 0.7705 - segnet_out_loss: 0.1027 - bin_class_out_loss: 0.0038 - bbox_out_loss: 66.4029 - segnet_out_accuracy: 0.9629 - bin_class_out_accuracy: 1.0000 - bbox_out_accuracy: 0.4881 - val_loss: 0.7766 - val_segnet_out_loss: 0.1326 - val_bin_class_out_loss: 0.0156 - val_bbox_out_loss: 62.8338 - val_segnet_out_accuracy: 0.9508 - val_bin_class_out_accuracy: 0.9932 - val_bbox_out_accuracy: 0.5318\n",
      "Epoch 8/10\n",
      "221/221 [==============================] - 75s 341ms/step - loss: 0.6516 - segnet_out_loss: 0.0948 - bin_class_out_loss: 0.0027 - bbox_out_loss: 55.4176 - segnet_out_accuracy: 0.9657 - bin_class_out_accuracy: 1.0000 - bbox_out_accuracy: 0.5526 - val_loss: 0.7087 - val_segnet_out_loss: 0.1349 - val_bin_class_out_loss: 0.0145 - val_bbox_out_loss: 55.9398 - val_segnet_out_accuracy: 0.9510 - val_bin_class_out_accuracy: 0.9955 - val_bbox_out_accuracy: 0.6545\n",
      "Epoch 9/10\n",
      "221/221 [==============================] - 76s 344ms/step - loss: 0.5452 - segnet_out_loss: 0.0889 - bin_class_out_loss: 0.0021 - bbox_out_loss: 45.4197 - segnet_out_accuracy: 0.9677 - bin_class_out_accuracy: 1.0000 - bbox_out_accuracy: 0.6629 - val_loss: 0.6267 - val_segnet_out_loss: 0.1335 - val_bin_class_out_loss: 0.0103 - val_bbox_out_loss: 48.2983 - val_segnet_out_accuracy: 0.9519 - val_bin_class_out_accuracy: 0.9955 - val_bbox_out_accuracy: 0.6705\n",
      "Epoch 10/10\n",
      "221/221 [==============================] - 75s 341ms/step - loss: 0.4474 - segnet_out_loss: 0.0850 - bin_class_out_loss: 0.0017 - bbox_out_loss: 36.0674 - segnet_out_accuracy: 0.9691 - bin_class_out_accuracy: 1.0000 - bbox_out_accuracy: 0.6963 - val_loss: 0.6575 - val_segnet_out_loss: 0.1339 - val_bin_class_out_loss: 0.0130 - val_bbox_out_loss: 51.0660 - val_segnet_out_accuracy: 0.9522 - val_bin_class_out_accuracy: 0.9955 - val_bbox_out_accuracy: 0.6977\n",
      "-------------------- start cross val 4/5 --------------------\n",
      "Epoch 1/10\n",
      "221/221 [==============================] - 84s 351ms/step - loss: 1.7394 - segnet_out_loss: 0.4222 - bin_class_out_loss: 0.2098 - bbox_out_loss: 110.7378 - segnet_out_accuracy: 0.8031 - bin_class_out_accuracy: 0.9270 - bbox_out_accuracy: 0.2511 - val_loss: 1.3769 - val_segnet_out_loss: 0.2426 - val_bin_class_out_loss: 0.0318 - val_bbox_out_loss: 110.2470 - val_segnet_out_accuracy: 0.9250 - val_bin_class_out_accuracy: 0.9886 - val_bbox_out_accuracy: 0.3886\n",
      "Epoch 2/10\n",
      "221/221 [==============================] - 77s 349ms/step - loss: 1.3473 - segnet_out_loss: 0.2233 - bin_class_out_loss: 0.0387 - bbox_out_loss: 108.5322 - segnet_out_accuracy: 0.9229 - bin_class_out_accuracy: 0.9915 - bbox_out_accuracy: 0.3682 - val_loss: 1.2681 - val_segnet_out_loss: 0.1673 - val_bin_class_out_loss: 0.0242 - val_bbox_out_loss: 107.6533 - val_segnet_out_accuracy: 0.9438 - val_bin_class_out_accuracy: 0.9886 - val_bbox_out_accuracy: 0.5000\n",
      "Epoch 3/10\n",
      "221/221 [==============================] - 75s 341ms/step - loss: 1.2306 - segnet_out_loss: 0.1725 - bin_class_out_loss: 0.0188 - bbox_out_loss: 103.9250 - segnet_out_accuracy: 0.9404 - bin_class_out_accuracy: 0.9966 - bbox_out_accuracy: 0.4463 - val_loss: 1.1574 - val_segnet_out_loss: 0.1439 - val_bin_class_out_loss: 0.0208 - val_bbox_out_loss: 99.2590 - val_segnet_out_accuracy: 0.9490 - val_bin_class_out_accuracy: 0.9955 - val_bbox_out_accuracy: 0.5341\n",
      "Epoch 4/10\n",
      "221/221 [==============================] - 75s 342ms/step - loss: 1.1254 - segnet_out_loss: 0.1449 - bin_class_out_loss: 0.0109 - bbox_out_loss: 96.9611 - segnet_out_accuracy: 0.9489 - bin_class_out_accuracy: 0.9983 - bbox_out_accuracy: 0.4610 - val_loss: 1.0328 - val_segnet_out_loss: 0.1335 - val_bin_class_out_loss: 0.0112 - val_bbox_out_loss: 88.8219 - val_segnet_out_accuracy: 0.9518 - val_bin_class_out_accuracy: 1.0000 - val_bbox_out_accuracy: 0.5023\n",
      "Epoch 5/10\n",
      "221/221 [==============================] - 75s 339ms/step - loss: 1.0178 - segnet_out_loss: 0.1275 - bin_class_out_loss: 0.0104 - bbox_out_loss: 87.9810 - segnet_out_accuracy: 0.9544 - bin_class_out_accuracy: 0.9972 - bbox_out_accuracy: 0.4581 - val_loss: 0.9896 - val_segnet_out_loss: 0.1328 - val_bin_class_out_loss: 0.0145 - val_bbox_out_loss: 84.2385 - val_segnet_out_accuracy: 0.9499 - val_bin_class_out_accuracy: 0.9955 - val_bbox_out_accuracy: 0.5159\n",
      "Epoch 6/10\n",
      "221/221 [==============================] - 76s 346ms/step - loss: 0.8955 - segnet_out_loss: 0.1144 - bin_class_out_loss: 0.0050 - bbox_out_loss: 77.6086 - segnet_out_accuracy: 0.9588 - bin_class_out_accuracy: 0.9989 - bbox_out_accuracy: 0.4587 - val_loss: 0.8535 - val_segnet_out_loss: 0.1251 - val_bin_class_out_loss: 0.0104 - val_bbox_out_loss: 71.8059 - val_segnet_out_accuracy: 0.9542 - val_bin_class_out_accuracy: 1.0000 - val_bbox_out_accuracy: 0.4864\n",
      "Epoch 7/10\n",
      "221/221 [==============================] - 75s 342ms/step - loss: 0.7702 - segnet_out_loss: 0.1037 - bin_class_out_loss: 0.0021 - bbox_out_loss: 66.4394 - segnet_out_accuracy: 0.9625 - bin_class_out_accuracy: 1.0000 - bbox_out_accuracy: 0.5023 - val_loss: 0.7341 - val_segnet_out_loss: 0.1229 - val_bin_class_out_loss: 0.0114 - val_bbox_out_loss: 59.9729 - val_segnet_out_accuracy: 0.9547 - val_bin_class_out_accuracy: 0.9977 - val_bbox_out_accuracy: 0.5364\n",
      "Epoch 8/10\n",
      "221/221 [==============================] - 77s 347ms/step - loss: 0.6534 - segnet_out_loss: 0.0972 - bin_class_out_loss: 0.0017 - bbox_out_loss: 55.4562 - segnet_out_accuracy: 0.9647 - bin_class_out_accuracy: 1.0000 - bbox_out_accuracy: 0.5718 - val_loss: 0.6268 - val_segnet_out_loss: 0.1223 - val_bin_class_out_loss: 0.0119 - val_bbox_out_loss: 49.2573 - val_segnet_out_accuracy: 0.9552 - val_bin_class_out_accuracy: 0.9955 - val_bbox_out_accuracy: 0.6705\n",
      "Epoch 9/10\n",
      "221/221 [==============================] - 75s 341ms/step - loss: 0.5433 - segnet_out_loss: 0.0895 - bin_class_out_loss: 9.3493e-04 - bbox_out_loss: 45.2880 - segnet_out_accuracy: 0.9677 - bin_class_out_accuracy: 1.0000 - bbox_out_accuracy: 0.6352 - val_loss: 0.6316 - val_segnet_out_loss: 0.1251 - val_bin_class_out_loss: 0.0110 - val_bbox_out_loss: 49.5448 - val_segnet_out_accuracy: 0.9551 - val_bin_class_out_accuracy: 0.9955 - val_bbox_out_accuracy: 0.6477\n",
      "Epoch 10/10\n",
      "221/221 [==============================] - 75s 341ms/step - loss: 0.4446 - segnet_out_loss: 0.0840 - bin_class_out_loss: 9.6112e-04 - bbox_out_loss: 35.9585 - segnet_out_accuracy: 0.9697 - bin_class_out_accuracy: 1.0000 - bbox_out_accuracy: 0.6646 - val_loss: 0.5889 - val_segnet_out_loss: 0.1240 - val_bin_class_out_loss: 0.0154 - val_bbox_out_loss: 44.9490 - val_segnet_out_accuracy: 0.9557 - val_bin_class_out_accuracy: 0.9909 - val_bbox_out_accuracy: 0.6273\n",
      "-------------------- start cross val 5/5 --------------------\n",
      "Epoch 1/10\n",
      "221/221 [==============================] - 82s 342ms/step - loss: 1.8217 - segnet_out_loss: 0.4720 - bin_class_out_loss: 0.2377 - bbox_out_loss: 111.2104 - segnet_out_accuracy: 0.7668 - bin_class_out_accuracy: 0.9061 - bbox_out_accuracy: 0.3173 - val_loss: 1.4008 - val_segnet_out_loss: 0.2551 - val_bin_class_out_loss: 0.0410 - val_bbox_out_loss: 110.4708 - val_segnet_out_accuracy: 0.9084 - val_bin_class_out_accuracy: 0.9909 - val_bbox_out_accuracy: 0.4341\n",
      "Epoch 2/10\n",
      "221/221 [==============================] - 76s 346ms/step - loss: 1.3578 - segnet_out_loss: 0.2292 - bin_class_out_loss: 0.0372 - bbox_out_loss: 109.1466 - segnet_out_accuracy: 0.9193 - bin_class_out_accuracy: 0.9932 - bbox_out_accuracy: 0.4389 - val_loss: 1.2860 - val_segnet_out_loss: 0.1780 - val_bin_class_out_loss: 0.0175 - val_bbox_out_loss: 109.0454 - val_segnet_out_accuracy: 0.9393 - val_bin_class_out_accuracy: 0.9932 - val_bbox_out_accuracy: 0.4909\n",
      "Epoch 3/10\n",
      "221/221 [==============================] - 76s 346ms/step - loss: 1.2339 - segnet_out_loss: 0.1723 - bin_class_out_loss: 0.0156 - bbox_out_loss: 104.6030 - segnet_out_accuracy: 0.9418 - bin_class_out_accuracy: 0.9983 - bbox_out_accuracy: 0.4949 - val_loss: 1.1760 - val_segnet_out_loss: 0.1548 - val_bin_class_out_loss: 0.0112 - val_bbox_out_loss: 100.9951 - val_segnet_out_accuracy: 0.9437 - val_bin_class_out_accuracy: 0.9977 - val_bbox_out_accuracy: 0.4409\n",
      "Epoch 4/10\n",
      "221/221 [==============================] - 75s 339ms/step - loss: 1.1296 - segnet_out_loss: 0.1449 - bin_class_out_loss: 0.0088 - bbox_out_loss: 97.5884 - segnet_out_accuracy: 0.9500 - bin_class_out_accuracy: 0.9983 - bbox_out_accuracy: 0.4717 - val_loss: 1.0761 - val_segnet_out_loss: 0.1416 - val_bin_class_out_loss: 0.0157 - val_bbox_out_loss: 91.8851 - val_segnet_out_accuracy: 0.9485 - val_bin_class_out_accuracy: 0.9955 - val_bbox_out_accuracy: 0.5068\n",
      "Epoch 5/10\n",
      "221/221 [==============================] - 74s 338ms/step - loss: 1.0198 - segnet_out_loss: 0.1258 - bin_class_out_loss: 0.0083 - bbox_out_loss: 88.5625 - segnet_out_accuracy: 0.9559 - bin_class_out_accuracy: 0.9983 - bbox_out_accuracy: 0.4621 - val_loss: 0.9909 - val_segnet_out_loss: 0.1367 - val_bin_class_out_loss: 0.0083 - val_bbox_out_loss: 84.5882 - val_segnet_out_accuracy: 0.9494 - val_bin_class_out_accuracy: 1.0000 - val_bbox_out_accuracy: 0.4841\n",
      "Epoch 6/10\n",
      "221/221 [==============================] - 75s 339ms/step - loss: 0.9003 - segnet_out_loss: 0.1126 - bin_class_out_loss: 0.0081 - bbox_out_loss: 77.9671 - segnet_out_accuracy: 0.9601 - bin_class_out_accuracy: 0.9983 - bbox_out_accuracy: 0.4474 - val_loss: 0.8374 - val_segnet_out_loss: 0.1330 - val_bin_class_out_loss: 0.0107 - val_bbox_out_loss: 69.3676 - val_segnet_out_accuracy: 0.9512 - val_bin_class_out_accuracy: 0.9977 - val_bbox_out_accuracy: 0.4636\n",
      "Epoch 7/10\n",
      "221/221 [==============================] - 75s 338ms/step - loss: 0.7816 - segnet_out_loss: 0.1037 - bin_class_out_loss: 0.0114 - bbox_out_loss: 66.6587 - segnet_out_accuracy: 0.9629 - bin_class_out_accuracy: 0.9977 - bbox_out_accuracy: 0.4683 - val_loss: 0.7568 - val_segnet_out_loss: 0.1370 - val_bin_class_out_loss: 0.0100 - val_bbox_out_loss: 60.9799 - val_segnet_out_accuracy: 0.9480 - val_bin_class_out_accuracy: 0.9977 - val_bbox_out_accuracy: 0.4795\n",
      "Epoch 8/10\n",
      "221/221 [==============================] - 74s 338ms/step - loss: 0.6618 - segnet_out_loss: 0.0976 - bin_class_out_loss: 0.0088 - bbox_out_loss: 55.5403 - segnet_out_accuracy: 0.9648 - bin_class_out_accuracy: 0.9972 - bbox_out_accuracy: 0.5356 - val_loss: 0.7261 - val_segnet_out_loss: 0.1319 - val_bin_class_out_loss: 0.0118 - val_bbox_out_loss: 58.2348 - val_segnet_out_accuracy: 0.9513 - val_bin_class_out_accuracy: 1.0000 - val_bbox_out_accuracy: 0.5750\n",
      "Epoch 9/10\n",
      "221/221 [==============================] - 75s 341ms/step - loss: 0.5478 - segnet_out_loss: 0.0903 - bin_class_out_loss: 0.0055 - bbox_out_loss: 45.2080 - segnet_out_accuracy: 0.9674 - bin_class_out_accuracy: 0.9977 - bbox_out_accuracy: 0.6188 - val_loss: 0.5964 - val_segnet_out_loss: 0.1322 - val_bin_class_out_loss: 0.0080 - val_bbox_out_loss: 45.6248 - val_segnet_out_accuracy: 0.9513 - val_bin_class_out_accuracy: 1.0000 - val_bbox_out_accuracy: 0.5773\n",
      "Epoch 10/10\n",
      "221/221 [==============================] - 76s 346ms/step - loss: 0.4479 - segnet_out_loss: 0.0851 - bin_class_out_loss: 0.0024 - bbox_out_loss: 36.0367 - segnet_out_accuracy: 0.9692 - bin_class_out_accuracy: 1.0000 - bbox_out_accuracy: 0.6686 - val_loss: 0.5825 - val_segnet_out_loss: 0.1311 - val_bin_class_out_loss: 0.0056 - val_bbox_out_loss: 44.5831 - val_segnet_out_accuracy: 0.9520 - val_bin_class_out_accuracy: 0.9977 - val_bbox_out_accuracy: 0.6409\n"
     ]
    }
   ],
   "source": [
    "##### Change this to modify the folds #####\n",
    "CVfolds = 5\n",
    "###########################################\n",
    "val_acc = []\n",
    "num_train_cv = num_train * (CVfolds-1)/CVfolds\n",
    "num_val_cv = num_train * 1/CVfolds\n",
    "\n",
    "for cv_iter in range(CVfolds):\n",
    "      # CrossVal: 0 = no CV, 1 = training set, 2 = val set\n",
    "      loader1 = DataLoader(batch_size=batch_size, batch_size_val=batch_size_val, CrossVal=1, CV_iteration=cv_iter, fold=CVfolds)\n",
    "      loader2 = DataLoader(batch_size=batch_size, batch_size_val=batch_size_val, CrossVal=2, CV_iteration=cv_iter, fold=CVfolds)\n",
    "\n",
    "      # Train set\n",
    "      img_ds = loader1.get_image_ds().repeat()\n",
    "      masks_ds = loader1.get_mask_ds().repeat()\n",
    "      label_ds = loader1.get_binary_ds().repeat()\n",
    "      bbox_ds = loader1.get_bboxes_ds().repeat()\n",
    "\n",
    "      # Validation set\n",
    "      img_ds_val = loader2.get_image_ds().repeat()\n",
    "      masks_ds_val = loader2.get_mask_ds().repeat()\n",
    "      label_ds_val = loader2.get_binary_ds().repeat()\n",
    "      bbox_ds_val = loader2.get_bboxes_ds().repeat()\n",
    "      \n",
    "      model = build_model(img_height, img_width, channels)\n",
    "\n",
    "      model.compile(optimizer=keras.optimizers.Adam(1e-4),\n",
    "                  loss={'segnet_out' : tf.keras.losses.BinaryCrossentropy(from_logits=True),\n",
    "                        'bin_class_out' : tf.keras.losses.BinaryCrossentropy(),\n",
    "                        'bbox_out' : tf.keras.losses.MeanAbsoluteError()},\n",
    "                  loss_weights=[1,1,1/100], # Scale MAE to BC range\n",
    "                  metrics=['accuracy'])\n",
    "\n",
    "      print(f\"-------------------- start cross val {cv_iter+1}/{CVfolds} --------------------\")\n",
    "\n",
    "      history = model.fit(generator_img(img_ds, masks_ds, label_ds, bbox_ds), \n",
    "                        validation_data=generator_img_val(img_ds_val, masks_ds_val, label_ds_val, bbox_ds), \n",
    "                        epochs=10, \n",
    "                        steps_per_epoch=num_train_cv//batch_size, \n",
    "                        validation_steps=num_val_cv//batch_size_val)\n",
    "\n",
    "      # save the final val_acc of each cv step\n",
    "      val_acc.append([history.history['val_segnet_out_accuracy'][-1], \n",
    "                              history.history['val_bin_class_out_accuracy'][-1],\n",
    "                              history.history['val_bbox_out_accuracy'][-1]])\n",
    "\n",
    "      # print(\"\\n\")"
   ]
  },
  {
   "cell_type": "code",
   "execution_count": 14,
   "metadata": {},
   "outputs": [
    {
     "name": "stdout",
     "output_type": "stream",
     "text": [
      "\tsegnet \tbinary \tbbox\n",
      "CV 1 \t0.9527 \t0.9886 \t0.6864\n",
      "CV 2 \t0.9561 \t0.9886 \t0.6705\n",
      "CV 3 \t0.9522 \t0.9955 \t0.6977\n",
      "CV 4 \t0.9557 \t0.9909 \t0.6273\n",
      "CV 5 \t0.952 \t0.9977 \t0.6409\n",
      "-----------------------------\n",
      "Avg  \t0.9537 \t0.9923 \t0.6645\n",
      "Std  \t0.0018 \t0.0037 \t0.0267\n"
     ]
    }
   ],
   "source": [
    "# Print out the results to see offline\n",
    "print(\"\\tsegnet \\tbinary \\tbbox\")\n",
    "for i in range(CVfolds):\n",
    "    print(f\"CV {i+1} \\t{np.round(val_acc[i][0], 4)} \\t{np.round(val_acc[i][1], 4)} \\t{np.round(val_acc[i][2], 4)}\")\n",
    "\n",
    "print(\"-----------------------------\")\n",
    "avg = np.round(np.mean(val_acc, axis=0), 4)\n",
    "std = np.round(np.std(val_acc, axis=0), 4)\n",
    "print(f\"Avg  \\t{avg[0]} \\t{avg[1]} \\t{avg[2]}\")\n",
    "print(f\"Std  \\t{std[0]} \\t{std[1]} \\t{std[2]}\")\n"
   ]
  },
  {
   "cell_type": "code",
   "execution_count": null,
   "metadata": {},
   "outputs": [],
   "source": [
    "fig, ax = plt.subplots(figsize=(8,6))\n",
    "#ax.plot(list(range(10)), history.history['segnet_out_accuracy'], 'r-', label='Segmentation - Training Accuracy')\n",
    "ax.plot(list(range(10)), history.history['val_segnet_out_accuracy'], 'r--', label='Segmentation - Validation Accuracy')\n",
    "#ax.plot(list(range(10)), history.history['bin_class_out_accuracy'], 'c-', label='Classification - Training Accuracy')\n",
    "ax.plot(list(range(10)), history.history['val_bin_class_out_accuracy'], 'c--', label='Classification - Validation Accuracy')\n",
    "ax2 = ax.twinx()\n",
    "#ax.plot(list(range(10)), history.history['bbox_out_accuracy'], 'm-', label='Bounding Box - Training Accuracy')\n",
    "ax.plot(list(range(10)), history.history['val_bbox_out_accuracy'], 'm--', label='Bounding Box - Validation Accuracy')\n",
    "ax.legend()\n",
    "ax.set_xlabel('Epochs')\n",
    "ax.set_ylabel('Segmentation/Classification Accuracy')\n",
    "ax2.set_ylabel('Bounding Box Accuracy')"
   ]
  },
  {
   "cell_type": "code",
   "execution_count": null,
   "metadata": {},
   "outputs": [],
   "source": [
    "model.save('EffishingNetN')"
   ]
  },
  {
   "cell_type": "markdown",
   "metadata": {},
   "source": [
    "## Test on test-set"
   ]
  },
  {
   "cell_type": "code",
   "execution_count": 39,
   "metadata": {},
   "outputs": [],
   "source": [
    "model = tf.keras.models.load_model('EffishingNetN')"
   ]
  },
  {
   "cell_type": "code",
   "execution_count": 6,
   "metadata": {},
   "outputs": [],
   "source": [
    "# Load test-set\n",
    "img_ds_test = loader.get_image_ds(test_mode=True)\n",
    "masks_ds_test = loader.get_mask_ds(test_mode=True)\n",
    "label_ds_test = loader.get_binary_ds(test_mode=True)\n",
    "bbox_ds_test = loader.get_bboxes_ds(test_mode=True)"
   ]
  },
  {
   "cell_type": "code",
   "execution_count": null,
   "metadata": {},
   "outputs": [],
   "source": [
    "# Predict on test-set\n",
    "seg_pred, bin_pred, bbox_pred = model.predict(img_ds_test, batch_size=10)\n",
    "seg_pred = tf.where(seg_pred >= 0, 1, 0) # Convert to {0,1} binary classes\n",
    "bin_pred = np.round(bin_pred) # Round confidence score\n",
    "\n",
    "bin_acc = np.sum(bin_pred == label_ds_test)/label_ds_test.shape[0]\n",
    "seg_acc = np.sum(seg_pred == masks_ds_test)/(masks_ds_test.shape[0]*(img_height*img_width))\n",
    "iou = np.mean(tools.calculate_iou(bbox_ds_test, bbox_pred))\n",
    "print(f'Binary Acc: {round(bin_acc*100, 3)}%,   Seg Acc: {round(seg_acc*100, 3)}%,    BBox IOU: {round(iou*100, 3)}%')"
   ]
  },
  {
   "cell_type": "code",
   "execution_count": 58,
   "metadata": {},
   "outputs": [],
   "source": [
    "def show_seg_pred(img: np.array, mask_truth: np.array, mask_pred: np.array, bbox_truth: np.array, bbox_pred: np.array):\n",
    "    ''' Show segmentation prediction with bounding box pred '''\n",
    "    fig, (ax1, ax2, ax3, ax4) = plt.subplots(1, 4, figsize=(12,12))\n",
    "    seg_max = tf.where(mask_pred > 0, 1, 0)\n",
    "    box_img_truth = tf.image.draw_bounding_boxes(tf.cast(tf.expand_dims(img, 0), tf.float32), tools.fix_bbox(bbox_truth).reshape([1,1,4])/256, np.array([[255, 0, 0]]))\n",
    "    box_img = tf.image.draw_bounding_boxes(tf.cast(tf.expand_dims(img, 0), tf.float32), tools.fix_bbox(bbox_pred).reshape([1,1,4])/256, np.array([[0, 255, 0]]))\n",
    "    \n",
    "    ax1.imshow(tf.keras.utils.array_to_img(tf.squeeze(box_img_truth)))\n",
    "    ax2.imshow(tf.keras.utils.array_to_img(tf.squeeze(box_img)))\n",
    "    ax3.imshow(tf.keras.utils.array_to_img(mask_truth))\n",
    "    ax4.imshow(tf.keras.utils.array_to_img(seg_max[0]))\n",
    "    ax1.set_title('Truth')\n",
    "    ax2.set_title('Prediction')\n",
    "    ax3.set_title('Truth')\n",
    "    ax4.set_title('Prediction')"
   ]
  },
  {
   "cell_type": "code",
   "execution_count": null,
   "metadata": {},
   "outputs": [],
   "source": [
    "# Visualise predictions\n",
    "idx = list(range(img_ds_test.shape[0]))\n",
    "random.shuffle(idx)\n",
    "for i in range(3):\n",
    "    show_seg_pred(img_ds_test[idx[i]], masks_ds_test[idx[i]], seg_pred[idx[i]][tf.newaxis, ...], bbox_ds_test[idx[i]], bbox_pred[idx[i]])"
   ]
  }
 ],
 "metadata": {
  "interpreter": {
   "hash": "13872f827bf2face4951d508a343680c0c465a86f8c76a51d647b255bdadb53b"
  },
  "kernelspec": {
   "display_name": "Python 3.9.9 64-bit",
   "language": "python",
   "name": "python3"
  },
  "language_info": {
   "codemirror_mode": {
    "name": "ipython",
    "version": 3
   },
   "file_extension": ".py",
   "mimetype": "text/x-python",
   "name": "python",
   "nbconvert_exporter": "python",
   "pygments_lexer": "ipython3",
   "version": "3.9.7"
  },
  "orig_nbformat": 4
 },
 "nbformat": 4,
 "nbformat_minor": 2
}
